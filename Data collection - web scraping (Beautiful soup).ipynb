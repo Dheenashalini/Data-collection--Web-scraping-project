{
 "cells": [
  {
   "cell_type": "code",
   "execution_count": 1,
   "id": "bace142e",
   "metadata": {},
   "outputs": [],
   "source": [
    "from bs4 import BeautifulSoup\n",
    "import requests\n",
    "import pandas as pd"
   ]
  },
  {
   "cell_type": "code",
   "execution_count": 2,
   "id": "eb983528",
   "metadata": {},
   "outputs": [],
   "source": [
    "url = 'https://en.wikipedia.org/wiki/List_of_largest_companies_in_the_United_States_by_revenue'\n",
    "\n",
    "page = requests.get(url)\n",
    "\n",
    "soup = BeautifulSoup(page.text , 'html')"
   ]
  },
  {
   "cell_type": "code",
   "execution_count": null,
   "id": "30854f42",
   "metadata": {},
   "outputs": [],
   "source": [
    "print(soup.prettify())"
   ]
  },
  {
   "cell_type": "code",
   "execution_count": null,
   "id": "2449309b",
   "metadata": {},
   "outputs": [],
   "source": [
    "soup.find_all('table')"
   ]
  },
  {
   "cell_type": "code",
   "execution_count": null,
   "id": "e8c7ffda",
   "metadata": {},
   "outputs": [],
   "source": [
    "table = soup.find('table', class_=\"wikitable sortable\")\n",
    "table"
   ]
  },
  {
   "cell_type": "code",
   "execution_count": null,
   "id": "19d1c12d",
   "metadata": {},
   "outputs": [],
   "source": [
    "titles = table.find_all('th')\n",
    "titles"
   ]
  },
  {
   "cell_type": "code",
   "execution_count": null,
   "id": "3a226a2e",
   "metadata": {},
   "outputs": [],
   "source": [
    "table_titles = [t.text.strip() for t in titles]\n",
    "table_titles"
   ]
  },
  {
   "cell_type": "code",
   "execution_count": null,
   "id": "18bd0c87",
   "metadata": {},
   "outputs": [],
   "source": [
    "df = pd.DataFrame(columns = table_titles)\n",
    "\n",
    "df"
   ]
  },
  {
   "cell_type": "code",
   "execution_count": null,
   "id": "4e17ceeb",
   "metadata": {},
   "outputs": [],
   "source": [
    "row_data = table.find_all('tr')\n",
    "row_data"
   ]
  },
  {
   "cell_type": "code",
   "execution_count": null,
   "id": "319ddd81",
   "metadata": {},
   "outputs": [],
   "source": [
    "for row in row_data:\n",
    "    content_data = row.find_all('td')\n",
    "    content = [data.text.strip() for data in content_data]\n",
    "    print(content)"
   ]
  },
  {
   "cell_type": "code",
   "execution_count": null,
   "id": "db1fcefe",
   "metadata": {},
   "outputs": [],
   "source": [
    "for row in row_data[1:]:\n",
    "    content_data = row.find_all('td')\n",
    "    content = [data.text.strip() for data in content_data]\n",
    "    \n",
    "    df.loc[len(df)] = content"
   ]
  },
  {
   "cell_type": "code",
   "execution_count": null,
   "id": "5dbad23f",
   "metadata": {},
   "outputs": [],
   "source": [
    "df.set_index('Rank')"
   ]
  }
 ],
 "metadata": {
  "kernelspec": {
   "display_name": "Python 3 (ipykernel)",
   "language": "python",
   "name": "python3"
  },
  "language_info": {
   "codemirror_mode": {
    "name": "ipython",
    "version": 3
   },
   "file_extension": ".py",
   "mimetype": "text/x-python",
   "name": "python",
   "nbconvert_exporter": "python",
   "pygments_lexer": "ipython3",
   "version": "3.10.9"
  }
 },
 "nbformat": 4,
 "nbformat_minor": 5
}
